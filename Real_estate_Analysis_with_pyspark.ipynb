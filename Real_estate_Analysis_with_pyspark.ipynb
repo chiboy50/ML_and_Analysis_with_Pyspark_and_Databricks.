{
 "cells": [
  {
   "cell_type": "code",
   "execution_count": 1,
   "id": "176a313c",
   "metadata": {},
   "outputs": [],
   "source": [
    "#importing pyspark\n",
    "import pyspark\n",
    "from pyspark.sql.functions import col"
   ]
  },
  {
   "cell_type": "code",
   "execution_count": 2,
   "id": "01e2f57e",
   "metadata": {},
   "outputs": [],
   "source": [
    "# import sparksession\n",
    "from pyspark.sql import SparkSession"
   ]
  },
  {
   "cell_type": "code",
   "execution_count": 3,
   "id": "96c8122b",
   "metadata": {},
   "outputs": [],
   "source": [
    "#creating an instance of the sparksession\n",
    "spark = SparkSession.builder.appName('Test').getOrCreate()"
   ]
  },
  {
   "cell_type": "code",
   "execution_count": 4,
   "id": "a228b90d",
   "metadata": {},
   "outputs": [
    {
     "data": {
      "text/html": [
       "\n",
       "            <div>\n",
       "                <p><b>SparkSession - in-memory</b></p>\n",
       "                \n",
       "        <div>\n",
       "            <p><b>SparkContext</b></p>\n",
       "\n",
       "            <p><a href=\"http://DESKTOP-RVPBTHA:4040\">Spark UI</a></p>\n",
       "\n",
       "            <dl>\n",
       "              <dt>Version</dt>\n",
       "                <dd><code>v3.4.1</code></dd>\n",
       "              <dt>Master</dt>\n",
       "                <dd><code>local[*]</code></dd>\n",
       "              <dt>AppName</dt>\n",
       "                <dd><code>Test</code></dd>\n",
       "            </dl>\n",
       "        </div>\n",
       "        \n",
       "            </div>\n",
       "        "
      ],
      "text/plain": [
       "<pyspark.sql.session.SparkSession at 0x2288638c1c0>"
      ]
     },
     "execution_count": 4,
     "metadata": {},
     "output_type": "execute_result"
    }
   ],
   "source": [
    "spark"
   ]
  },
  {
   "cell_type": "code",
   "execution_count": 5,
   "id": "ffd15181",
   "metadata": {},
   "outputs": [],
   "source": [
    "# The best way to import our data while making first row header and also allowing spark to infer the data types\n",
    "df = spark.read.csv('real_estate_price_size_year_view.csv', header=True, inferSchema=True)"
   ]
  },
  {
   "cell_type": "code",
   "execution_count": 6,
   "id": "f71a5601",
   "metadata": {},
   "outputs": [
    {
     "name": "stdout",
     "output_type": "stream",
     "text": [
      "+----------+-------+----+-----------+\n",
      "|     price|   size|year|       view|\n",
      "+----------+-------+----+-----------+\n",
      "|234314.144| 643.09|2015|No sea view|\n",
      "|228581.528| 656.22|2009|No sea view|\n",
      "|281626.336| 487.29|2018|   Sea view|\n",
      "|401255.608|1504.75|2015|No sea view|\n",
      "|458674.256|1275.46|2009|   Sea view|\n",
      "+----------+-------+----+-----------+\n",
      "only showing top 5 rows\n",
      "\n"
     ]
    }
   ],
   "source": [
    "df.show(5)"
   ]
  },
  {
   "cell_type": "code",
   "execution_count": 7,
   "id": "ca939936",
   "metadata": {},
   "outputs": [
    {
     "name": "stdout",
     "output_type": "stream",
     "text": [
      "root\n",
      " |-- price: double (nullable = true)\n",
      " |-- size: double (nullable = true)\n",
      " |-- year: integer (nullable = true)\n",
      " |-- view: string (nullable = true)\n",
      "\n"
     ]
    }
   ],
   "source": [
    "df.printSchema()"
   ]
  },
  {
   "cell_type": "code",
   "execution_count": 8,
   "id": "5c137674",
   "metadata": {},
   "outputs": [
    {
     "data": {
      "text/plain": [
       "pyspark.sql.dataframe.DataFrame"
      ]
     },
     "execution_count": 8,
     "metadata": {},
     "output_type": "execute_result"
    }
   ],
   "source": [
    "type(df)"
   ]
  },
  {
   "cell_type": "code",
   "execution_count": 9,
   "id": "17f66c14",
   "metadata": {},
   "outputs": [
    {
     "data": {
      "text/plain": [
       "['price', 'size', 'year', 'view']"
      ]
     },
     "execution_count": 9,
     "metadata": {},
     "output_type": "execute_result"
    }
   ],
   "source": [
    "df.columns"
   ]
  },
  {
   "cell_type": "code",
   "execution_count": 10,
   "id": "1d1c435d",
   "metadata": {},
   "outputs": [
    {
     "name": "stdout",
     "output_type": "stream",
     "text": [
      "+----------+-------+\n",
      "|     price|   size|\n",
      "+----------+-------+\n",
      "|234314.144| 643.09|\n",
      "|228581.528| 656.22|\n",
      "|281626.336| 487.29|\n",
      "|401255.608|1504.75|\n",
      "|458674.256|1275.46|\n",
      "+----------+-------+\n",
      "only showing top 5 rows\n",
      "\n"
     ]
    }
   ],
   "source": [
    "# checking out the price and size columns\n",
    "df.select(['price', 'size']).show(5)"
   ]
  },
  {
   "cell_type": "code",
   "execution_count": 11,
   "id": "134a9ddc",
   "metadata": {},
   "outputs": [
    {
     "data": {
      "text/plain": [
       "[('price', 'double'), ('size', 'double'), ('year', 'int'), ('view', 'string')]"
      ]
     },
     "execution_count": 11,
     "metadata": {},
     "output_type": "execute_result"
    }
   ],
   "source": [
    "df.dtypes"
   ]
  },
  {
   "cell_type": "code",
   "execution_count": 12,
   "id": "debcd59a",
   "metadata": {},
   "outputs": [
    {
     "name": "stdout",
     "output_type": "stream",
     "text": [
      "+-------+------------------+-----------------+-----------------+-----------+\n",
      "|summary|             price|             size|             year|       view|\n",
      "+-------+------------------+-----------------+-----------------+-----------+\n",
      "|  count|               100|              100|              100|        100|\n",
      "|   mean|292289.47015999985|         853.0242|           2012.6|       null|\n",
      "| stddev| 77051.72752473492|297.9419506683147|4.729020655869068|       null|\n",
      "|    min|        154282.128|           479.75|             2006|No sea view|\n",
      "|    max|        500681.128|          1842.51|             2018|   Sea view|\n",
      "+-------+------------------+-----------------+-----------------+-----------+\n",
      "\n"
     ]
    }
   ],
   "source": [
    "# how to use describe to summarize the dataframe\n",
    "df.describe().show()"
   ]
  },
  {
   "cell_type": "code",
   "execution_count": 13,
   "id": "2852e32a",
   "metadata": {},
   "outputs": [],
   "source": [
    "# checking for null values \n",
    "null_columns = [column for column in df.columns if df.filter(col(column).isNull()).count() > 0]"
   ]
  },
  {
   "cell_type": "code",
   "execution_count": 14,
   "id": "45fac2be",
   "metadata": {},
   "outputs": [
    {
     "data": {
      "text/plain": [
       "[]"
      ]
     },
     "execution_count": 14,
     "metadata": {},
     "output_type": "execute_result"
    }
   ],
   "source": [
    "null_columns"
   ]
  },
  {
   "cell_type": "markdown",
   "id": "f0ff6156",
   "metadata": {},
   "source": [
    "There are no null values in the data"
   ]
  },
  {
   "cell_type": "markdown",
   "id": "b7a12512",
   "metadata": {},
   "source": [
    "### Analysis of our Data"
   ]
  },
  {
   "cell_type": "markdown",
   "id": "1405718c",
   "metadata": {},
   "source": [
    "Checking for houses with prices greater than the mean"
   ]
  },
  {
   "cell_type": "code",
   "execution_count": 15,
   "id": "ff877ead",
   "metadata": {},
   "outputs": [
    {
     "name": "stdout",
     "output_type": "stream",
     "text": [
      "+----------+-------+----+-----------+\n",
      "|     price|   size|year|       view|\n",
      "+----------+-------+----+-----------+\n",
      "|401255.608|1504.75|2015|No sea view|\n",
      "|458674.256|1275.46|2009|   Sea view|\n",
      "|331101.344| 682.26|2018|   Sea view|\n",
      "|494778.992|1842.51|2009|   Sea view|\n",
      "|418753.008|1009.25|2018|No sea view|\n",
      "|444192.008|1300.96|2006|   Sea view|\n",
      "|440201.616|1379.72|2006|   Sea view|\n",
      "|299416.976|1027.76|2018|No sea view|\n",
      "|412569.472|1207.45|2015|   Sea view|\n",
      "| 362519.72| 1103.3|2018|   Sea view|\n",
      "+----------+-------+----+-----------+\n",
      "only showing top 10 rows\n",
      "\n"
     ]
    }
   ],
   "source": [
    "df.filter(df['price'] > 292289.47015999985).show(10)"
   ]
  },
  {
   "cell_type": "code",
   "execution_count": 16,
   "id": "e22cc263",
   "metadata": {},
   "outputs": [
    {
     "data": {
      "text/plain": [
       "45"
      ]
     },
     "execution_count": 16,
     "metadata": {},
     "output_type": "execute_result"
    }
   ],
   "source": [
    "dfa = df.filter(df['price'] > 292289.47015999985)\n",
    "dfa.count()"
   ]
  },
  {
   "cell_type": "markdown",
   "id": "071afa2f",
   "metadata": {},
   "source": [
    "There are 45 houses with price above the mean"
   ]
  },
  {
   "cell_type": "code",
   "execution_count": 17,
   "id": "8ffe2eda",
   "metadata": {},
   "outputs": [],
   "source": [
    "# checking for seaview houses that aare over the mean\n",
    "df1 = df.filter((df['price'] > 292289.47015999985) & (df['view'] == 'Sea view'))"
   ]
  },
  {
   "cell_type": "code",
   "execution_count": 18,
   "id": "a396e45e",
   "metadata": {},
   "outputs": [
    {
     "data": {
      "text/plain": [
       "29"
      ]
     },
     "execution_count": 18,
     "metadata": {},
     "output_type": "execute_result"
    }
   ],
   "source": [
    "df1.count()"
   ]
  },
  {
   "cell_type": "markdown",
   "id": "7afc3a6d",
   "metadata": {},
   "source": [
    "there are 29 houses with sea view and 16 houses without suggesting that the houses prices are a bit higher when their is sea view"
   ]
  },
  {
   "cell_type": "code",
   "execution_count": 19,
   "id": "f042e98d",
   "metadata": {},
   "outputs": [
    {
     "name": "stdout",
     "output_type": "stream",
     "text": [
      "+----------+-------+----+-----------+\n",
      "|     price|   size|year|       view|\n",
      "+----------+-------+----+-----------+\n",
      "|401255.608|1504.75|2015|No sea view|\n",
      "|458674.256|1275.46|2009|   Sea view|\n",
      "|494778.992|1842.51|2009|   Sea view|\n",
      "|418753.008|1009.25|2018|No sea view|\n",
      "|444192.008|1300.96|2006|   Sea view|\n",
      "|440201.616|1379.72|2006|   Sea view|\n",
      "|299416.976|1027.76|2018|No sea view|\n",
      "|412569.472|1207.45|2015|   Sea view|\n",
      "| 362519.72| 1103.3|2018|   Sea view|\n",
      "|406852.304| 1334.1|2015|   Sea view|\n",
      "+----------+-------+----+-----------+\n",
      "only showing top 10 rows\n",
      "\n"
     ]
    }
   ],
   "source": [
    "# we will check for houses with both price and size above their mean\n",
    "df.filter((df['price'] > 292289.47015999985) & (df['size'] > 853.0242)).show(10)"
   ]
  },
  {
   "cell_type": "code",
   "execution_count": 20,
   "id": "a75cb6a1",
   "metadata": {},
   "outputs": [
    {
     "data": {
      "text/plain": [
       "33"
      ]
     },
     "execution_count": 20,
     "metadata": {},
     "output_type": "execute_result"
    }
   ],
   "source": [
    "df2 = df.filter((df['price'] > 292289.47015999985) & (df['size'] > 853.0242))\n",
    "df2.count()"
   ]
  },
  {
   "cell_type": "markdown",
   "id": "51bb1b0f",
   "metadata": {},
   "source": [
    "this means that out of the 45 houses with above average prices, most of them had above average prices also"
   ]
  },
  {
   "cell_type": "code",
   "execution_count": 21,
   "id": "0b34585f",
   "metadata": {},
   "outputs": [
    {
     "name": "stdout",
     "output_type": "stream",
     "text": [
      "+----+-----------------+\n",
      "|year|       sum(price)|\n",
      "+----+-----------------+\n",
      "|2018|       7914419.64|\n",
      "|2015|9596620.560000002|\n",
      "|2006|6743314.543999999|\n",
      "|2009|      4974592.272|\n",
      "+----+-----------------+\n",
      "\n"
     ]
    }
   ],
   "source": [
    "# Grouping by year to determine which year had the highest prices\n",
    "df.groupBy('year').sum('price').show()"
   ]
  },
  {
   "cell_type": "markdown",
   "id": "5c6c7a92",
   "metadata": {},
   "source": [
    "we can see that 2015 had the highest total house prices while 2019 had the least"
   ]
  },
  {
   "cell_type": "code",
   "execution_count": 22,
   "id": "5498ab77",
   "metadata": {},
   "outputs": [
    {
     "name": "stdout",
     "output_type": "stream",
     "text": [
      "+----+-----+\n",
      "|year|count|\n",
      "+----+-----+\n",
      "|2018|   26|\n",
      "|2015|   33|\n",
      "|2006|   24|\n",
      "|2009|   17|\n",
      "+----+-----+\n",
      "\n"
     ]
    }
   ],
   "source": [
    "# what was the distribution of houses per year\n",
    "df.groupBy('year').count().show()"
   ]
  },
  {
   "cell_type": "markdown",
   "id": "4ef15e56",
   "metadata": {},
   "source": [
    "2015 had the highest entries with 2009 having the least and this tallies with our sum of prices"
   ]
  },
  {
   "cell_type": "code",
   "execution_count": 23,
   "id": "97979b3f",
   "metadata": {},
   "outputs": [
    {
     "name": "stdout",
     "output_type": "stream",
     "text": [
      "+-----------+--------------------+\n",
      "|       view|          sum(price)|\n",
      "+-----------+--------------------+\n",
      "|   Sea view|1.5908449192000002E7|\n",
      "|No sea view|1.3320497824000001E7|\n",
      "+-----------+--------------------+\n",
      "\n"
     ]
    }
   ],
   "source": [
    "# which view had the highest total in house prices\n",
    "df.groupBy('view').sum('price').show()"
   ]
  },
  {
   "cell_type": "markdown",
   "id": "22ccc9a4",
   "metadata": {},
   "source": [
    "Sea view had the higher price sum, lets also check our count if they are the same"
   ]
  },
  {
   "cell_type": "code",
   "execution_count": 24,
   "id": "c6d03705",
   "metadata": {},
   "outputs": [
    {
     "name": "stdout",
     "output_type": "stream",
     "text": [
      "+-----------+-----+\n",
      "|       view|count|\n",
      "+-----------+-----+\n",
      "|   Sea view|   49|\n",
      "|No sea view|   51|\n",
      "+-----------+-----+\n",
      "\n"
     ]
    }
   ],
   "source": [
    "df.groupBy('view').count().show()"
   ]
  },
  {
   "cell_type": "markdown",
   "id": "c5fb2c26",
   "metadata": {},
   "source": [
    "They are almost the same with No sea view just slightly higher meaning that the houses with sea view are pricier "
   ]
  }
 ],
 "metadata": {
  "kernelspec": {
   "display_name": "Python 3 (ipykernel)",
   "language": "python",
   "name": "python3"
  },
  "language_info": {
   "codemirror_mode": {
    "name": "ipython",
    "version": 3
   },
   "file_extension": ".py",
   "mimetype": "text/x-python",
   "name": "python",
   "nbconvert_exporter": "python",
   "pygments_lexer": "ipython3",
   "version": "3.9.13"
  }
 },
 "nbformat": 4,
 "nbformat_minor": 5
}
