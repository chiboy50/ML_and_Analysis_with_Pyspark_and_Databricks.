{
 "cells": [
  {
   "cell_type": "code",
   "execution_count": 1,
   "id": "65a2d564",
   "metadata": {},
   "outputs": [
    {
     "name": "stdout",
     "output_type": "stream",
     "text": [
      "Requirement already satisfied: pyspark in c:\\users\\belema amah\\anaconda3\\lib\\site-packages (3.4.1)\n",
      "Requirement already satisfied: py4j==0.10.9.7 in c:\\users\\belema amah\\anaconda3\\lib\\site-packages (from pyspark) (0.10.9.7)\n"
     ]
    }
   ],
   "source": [
    "!pip install pyspark"
   ]
  },
  {
   "cell_type": "code",
   "execution_count": 2,
   "id": "3739a57c",
   "metadata": {},
   "outputs": [],
   "source": [
    "#importing pyspark\n",
    "import pyspark\n",
    "from pyspark.sql.functions import col"
   ]
  },
  {
   "cell_type": "code",
   "execution_count": 3,
   "id": "1b6ad849",
   "metadata": {},
   "outputs": [],
   "source": [
    "# import sparksession\n",
    "from pyspark.sql import SparkSession"
   ]
  },
  {
   "cell_type": "code",
   "execution_count": 4,
   "id": "1249c010",
   "metadata": {},
   "outputs": [],
   "source": [
    "#creating an instance of the sparksession\n",
    "spark = SparkSession.builder.appName('Test').getOrCreate()"
   ]
  },
  {
   "cell_type": "code",
   "execution_count": 5,
   "id": "ce5e593a",
   "metadata": {},
   "outputs": [
    {
     "data": {
      "text/html": [
       "\n",
       "            <div>\n",
       "                <p><b>SparkSession - in-memory</b></p>\n",
       "                \n",
       "        <div>\n",
       "            <p><b>SparkContext</b></p>\n",
       "\n",
       "            <p><a href=\"http://DESKTOP-RVPBTHA:4041\">Spark UI</a></p>\n",
       "\n",
       "            <dl>\n",
       "              <dt>Version</dt>\n",
       "                <dd><code>v3.4.1</code></dd>\n",
       "              <dt>Master</dt>\n",
       "                <dd><code>local[*]</code></dd>\n",
       "              <dt>AppName</dt>\n",
       "                <dd><code>Test</code></dd>\n",
       "            </dl>\n",
       "        </div>\n",
       "        \n",
       "            </div>\n",
       "        "
      ],
      "text/plain": [
       "<pyspark.sql.session.SparkSession at 0x2738af14a60>"
      ]
     },
     "execution_count": 5,
     "metadata": {},
     "output_type": "execute_result"
    }
   ],
   "source": [
    "spark"
   ]
  },
  {
   "cell_type": "code",
   "execution_count": 6,
   "id": "8547d504",
   "metadata": {},
   "outputs": [],
   "source": [
    "# importing our data\n",
    "df = spark.read.csv('daily_show_guests.csv')"
   ]
  },
  {
   "cell_type": "code",
   "execution_count": 7,
   "id": "2a6bf2e2",
   "metadata": {},
   "outputs": [
    {
     "name": "stdout",
     "output_type": "stream",
     "text": [
      "+----+--------------------+--------+--------+--------------------+\n",
      "| _c0|                 _c1|     _c2|     _c3|                 _c4|\n",
      "+----+--------------------+--------+--------+--------------------+\n",
      "|YEAR|GoogleKnowlege_Oc...|    Show|   Group|      Raw_Guest_List|\n",
      "|1999|               actor| 1/11/99|  Acting|      Michael J. Fox|\n",
      "|1999|            Comedian| 1/12/99|  Comedy|     Sandra Bernhard|\n",
      "|1999|  television actress| 1/13/99|  Acting|       Tracey Ullman|\n",
      "|1999|        film actress| 1/14/99|  Acting|    Gillian Anderson|\n",
      "|1999|               actor| 1/18/99|  Acting|    David Alan Grier|\n",
      "|1999|               actor| 1/19/99|  Acting|     William Baldwin|\n",
      "|1999|     Singer-lyricist| 1/20/99|Musician|       Michael Stipe|\n",
      "|1999|               model| 1/21/99|   Media|      Carmen Electra|\n",
      "|1999|               actor| 1/25/99|  Acting|     Matthew Lillard|\n",
      "|1999|   stand-up comedian| 1/26/99|  Comedy|         David Cross|\n",
      "|1999|             actress| 1/27/99|  Acting|      Yasmine Bleeth|\n",
      "|1999|               actor| 1/28/99|  Acting|       D. L. Hughley|\n",
      "|1999|  television actress|10/18/99|  Acting|    Rebecca Gayheart|\n",
      "|1999|            Comedian|10/19/99|  Comedy|       Steven Wright|\n",
      "|1999|             actress|10/20/99|  Acting|       Amy Brenneman|\n",
      "|1999|             actress|10/21/99|  Acting|     Melissa Gilbert|\n",
      "|1999|             actress|10/25/99|  Acting|      Cathy Moriarty|\n",
      "|1999|            comedian|10/26/99|  Comedy|      Louie Anderson|\n",
      "|1999|             actress|10/27/99|  Acting|Sarah Michelle Ge...|\n",
      "+----+--------------------+--------+--------+--------------------+\n",
      "only showing top 20 rows\n",
      "\n"
     ]
    }
   ],
   "source": [
    "df.show()"
   ]
  },
  {
   "cell_type": "code",
   "execution_count": 8,
   "id": "10db3a22",
   "metadata": {},
   "outputs": [],
   "source": [
    "# importing our dataframe while making our first row the header\n",
    "df = spark.read.option('header', 'true').csv('daily_show_guests.csv', inferSchema=True)"
   ]
  },
  {
   "cell_type": "code",
   "execution_count": 9,
   "id": "5da9c62a",
   "metadata": {},
   "outputs": [
    {
     "name": "stdout",
     "output_type": "stream",
     "text": [
      "+----+-------------------------+--------+--------+--------------------+\n",
      "|YEAR|GoogleKnowlege_Occupation|    Show|   Group|      Raw_Guest_List|\n",
      "+----+-------------------------+--------+--------+--------------------+\n",
      "|1999|                    actor| 1/11/99|  Acting|      Michael J. Fox|\n",
      "|1999|                 Comedian| 1/12/99|  Comedy|     Sandra Bernhard|\n",
      "|1999|       television actress| 1/13/99|  Acting|       Tracey Ullman|\n",
      "|1999|             film actress| 1/14/99|  Acting|    Gillian Anderson|\n",
      "|1999|                    actor| 1/18/99|  Acting|    David Alan Grier|\n",
      "|1999|                    actor| 1/19/99|  Acting|     William Baldwin|\n",
      "|1999|          Singer-lyricist| 1/20/99|Musician|       Michael Stipe|\n",
      "|1999|                    model| 1/21/99|   Media|      Carmen Electra|\n",
      "|1999|                    actor| 1/25/99|  Acting|     Matthew Lillard|\n",
      "|1999|        stand-up comedian| 1/26/99|  Comedy|         David Cross|\n",
      "|1999|                  actress| 1/27/99|  Acting|      Yasmine Bleeth|\n",
      "|1999|                    actor| 1/28/99|  Acting|       D. L. Hughley|\n",
      "|1999|       television actress|10/18/99|  Acting|    Rebecca Gayheart|\n",
      "|1999|                 Comedian|10/19/99|  Comedy|       Steven Wright|\n",
      "|1999|                  actress|10/20/99|  Acting|       Amy Brenneman|\n",
      "|1999|                  actress|10/21/99|  Acting|     Melissa Gilbert|\n",
      "|1999|                  actress|10/25/99|  Acting|      Cathy Moriarty|\n",
      "|1999|                 comedian|10/26/99|  Comedy|      Louie Anderson|\n",
      "|1999|                  actress|10/27/99|  Acting|Sarah Michelle Ge...|\n",
      "|1999|        Singer-songwriter|10/28/99|Musician|           Melanie C|\n",
      "+----+-------------------------+--------+--------+--------------------+\n",
      "only showing top 20 rows\n",
      "\n"
     ]
    }
   ],
   "source": [
    "df.show()"
   ]
  },
  {
   "cell_type": "code",
   "execution_count": 10,
   "id": "d18145d9",
   "metadata": {},
   "outputs": [
    {
     "data": {
      "text/plain": [
       "pyspark.sql.dataframe.DataFrame"
      ]
     },
     "execution_count": 10,
     "metadata": {},
     "output_type": "execute_result"
    }
   ],
   "source": [
    "type(df)"
   ]
  },
  {
   "cell_type": "code",
   "execution_count": 11,
   "id": "66ac758a",
   "metadata": {},
   "outputs": [
    {
     "data": {
      "text/plain": [
       "[Row(YEAR=1999, GoogleKnowlege_Occupation='actor', Show='1/11/99', Group='Acting', Raw_Guest_List='Michael J. Fox'),\n",
       " Row(YEAR=1999, GoogleKnowlege_Occupation='Comedian', Show='1/12/99', Group='Comedy', Raw_Guest_List='Sandra Bernhard'),\n",
       " Row(YEAR=1999, GoogleKnowlege_Occupation='television actress', Show='1/13/99', Group='Acting', Raw_Guest_List='Tracey Ullman'),\n",
       " Row(YEAR=1999, GoogleKnowlege_Occupation='film actress', Show='1/14/99', Group='Acting', Raw_Guest_List='Gillian Anderson'),\n",
       " Row(YEAR=1999, GoogleKnowlege_Occupation='actor', Show='1/18/99', Group='Acting', Raw_Guest_List='David Alan Grier')]"
      ]
     },
     "execution_count": 11,
     "metadata": {},
     "output_type": "execute_result"
    }
   ],
   "source": [
    "df.head(5)"
   ]
  },
  {
   "cell_type": "code",
   "execution_count": 12,
   "id": "51fac9b1",
   "metadata": {},
   "outputs": [
    {
     "name": "stdout",
     "output_type": "stream",
     "text": [
      "root\n",
      " |-- YEAR: integer (nullable = true)\n",
      " |-- GoogleKnowlege_Occupation: string (nullable = true)\n",
      " |-- Show: string (nullable = true)\n",
      " |-- Group: string (nullable = true)\n",
      " |-- Raw_Guest_List: string (nullable = true)\n",
      "\n"
     ]
    }
   ],
   "source": [
    "df.printSchema()"
   ]
  },
  {
   "cell_type": "code",
   "execution_count": 13,
   "id": "0a32fc21",
   "metadata": {},
   "outputs": [],
   "source": [
    "# The best way to import our data while making first row header and also allowing spark to infer the data types\n",
    "df1 = spark.read.csv('daily_show_guests.csv', header=True, inferSchema=True)"
   ]
  },
  {
   "cell_type": "code",
   "execution_count": 14,
   "id": "38fa5ce5",
   "metadata": {},
   "outputs": [
    {
     "name": "stdout",
     "output_type": "stream",
     "text": [
      "+----+-------------------------+--------+--------+--------------------+\n",
      "|YEAR|GoogleKnowlege_Occupation|    Show|   Group|      Raw_Guest_List|\n",
      "+----+-------------------------+--------+--------+--------------------+\n",
      "|1999|                    actor| 1/11/99|  Acting|      Michael J. Fox|\n",
      "|1999|                 Comedian| 1/12/99|  Comedy|     Sandra Bernhard|\n",
      "|1999|       television actress| 1/13/99|  Acting|       Tracey Ullman|\n",
      "|1999|             film actress| 1/14/99|  Acting|    Gillian Anderson|\n",
      "|1999|                    actor| 1/18/99|  Acting|    David Alan Grier|\n",
      "|1999|                    actor| 1/19/99|  Acting|     William Baldwin|\n",
      "|1999|          Singer-lyricist| 1/20/99|Musician|       Michael Stipe|\n",
      "|1999|                    model| 1/21/99|   Media|      Carmen Electra|\n",
      "|1999|                    actor| 1/25/99|  Acting|     Matthew Lillard|\n",
      "|1999|        stand-up comedian| 1/26/99|  Comedy|         David Cross|\n",
      "|1999|                  actress| 1/27/99|  Acting|      Yasmine Bleeth|\n",
      "|1999|                    actor| 1/28/99|  Acting|       D. L. Hughley|\n",
      "|1999|       television actress|10/18/99|  Acting|    Rebecca Gayheart|\n",
      "|1999|                 Comedian|10/19/99|  Comedy|       Steven Wright|\n",
      "|1999|                  actress|10/20/99|  Acting|       Amy Brenneman|\n",
      "|1999|                  actress|10/21/99|  Acting|     Melissa Gilbert|\n",
      "|1999|                  actress|10/25/99|  Acting|      Cathy Moriarty|\n",
      "|1999|                 comedian|10/26/99|  Comedy|      Louie Anderson|\n",
      "|1999|                  actress|10/27/99|  Acting|Sarah Michelle Ge...|\n",
      "|1999|        Singer-songwriter|10/28/99|Musician|           Melanie C|\n",
      "+----+-------------------------+--------+--------+--------------------+\n",
      "only showing top 20 rows\n",
      "\n"
     ]
    }
   ],
   "source": [
    "df1.show()"
   ]
  },
  {
   "cell_type": "code",
   "execution_count": 15,
   "id": "075a5e51",
   "metadata": {},
   "outputs": [
    {
     "name": "stdout",
     "output_type": "stream",
     "text": [
      "root\n",
      " |-- YEAR: integer (nullable = true)\n",
      " |-- GoogleKnowlege_Occupation: string (nullable = true)\n",
      " |-- Show: string (nullable = true)\n",
      " |-- Group: string (nullable = true)\n",
      " |-- Raw_Guest_List: string (nullable = true)\n",
      "\n"
     ]
    }
   ],
   "source": [
    "df1.printSchema()"
   ]
  },
  {
   "cell_type": "code",
   "execution_count": 16,
   "id": "0617e11e",
   "metadata": {},
   "outputs": [
    {
     "data": {
      "text/plain": [
       "pyspark.sql.dataframe.DataFrame"
      ]
     },
     "execution_count": 16,
     "metadata": {},
     "output_type": "execute_result"
    }
   ],
   "source": [
    "type(df1)"
   ]
  },
  {
   "cell_type": "code",
   "execution_count": 17,
   "id": "bf78f9d6",
   "metadata": {},
   "outputs": [
    {
     "data": {
      "text/plain": [
       "['YEAR', 'GoogleKnowlege_Occupation', 'Show', 'Group', 'Raw_Guest_List']"
      ]
     },
     "execution_count": 17,
     "metadata": {},
     "output_type": "execute_result"
    }
   ],
   "source": [
    "df.columns"
   ]
  },
  {
   "cell_type": "code",
   "execution_count": 18,
   "id": "e0883e17",
   "metadata": {},
   "outputs": [
    {
     "name": "stdout",
     "output_type": "stream",
     "text": [
      "+----+\n",
      "|YEAR|\n",
      "+----+\n",
      "|1999|\n",
      "|1999|\n",
      "|1999|\n",
      "|1999|\n",
      "|1999|\n",
      "+----+\n",
      "only showing top 5 rows\n",
      "\n"
     ]
    }
   ],
   "source": [
    "# how to select individual columns\n",
    "df.select('YEAR').show(5)"
   ]
  },
  {
   "cell_type": "code",
   "execution_count": 19,
   "id": "bfb5a908",
   "metadata": {},
   "outputs": [
    {
     "name": "stdout",
     "output_type": "stream",
     "text": [
      "+----+-------+\n",
      "|YEAR|   show|\n",
      "+----+-------+\n",
      "|1999|1/11/99|\n",
      "|1999|1/12/99|\n",
      "|1999|1/13/99|\n",
      "|1999|1/14/99|\n",
      "|1999|1/18/99|\n",
      "+----+-------+\n",
      "only showing top 5 rows\n",
      "\n"
     ]
    }
   ],
   "source": [
    "# how to select multiplr columns\n",
    "df.select(['YEAR', 'show']).show(5)"
   ]
  },
  {
   "cell_type": "code",
   "execution_count": 20,
   "id": "62f5659d",
   "metadata": {},
   "outputs": [
    {
     "data": {
      "text/plain": [
       "[('YEAR', 'int'),\n",
       " ('GoogleKnowlege_Occupation', 'string'),\n",
       " ('Show', 'string'),\n",
       " ('Group', 'string'),\n",
       " ('Raw_Guest_List', 'string')]"
      ]
     },
     "execution_count": 20,
     "metadata": {},
     "output_type": "execute_result"
    }
   ],
   "source": [
    "df.dtypes"
   ]
  },
  {
   "cell_type": "code",
   "execution_count": 21,
   "id": "25330922",
   "metadata": {},
   "outputs": [
    {
     "name": "stdout",
     "output_type": "stream",
     "text": [
      "+-------+------------------+-------------------------+------+--------+--------------------+\n",
      "|summary|              YEAR|GoogleKnowlege_Occupation|  Show|   Group|      Raw_Guest_List|\n",
      "+-------+------------------+-------------------------+------+--------+--------------------+\n",
      "|  count|              2693|                     2693|  2693|    2693|                2693|\n",
      "|   mean|2006.8161901225399|                      0.0|  null|    null|                null|\n",
      "| stddev| 4.828177498899673|                      0.0|  null|    null|                null|\n",
      "|    min|              1999|                        -|1/1/07|Academic|\"Dwayne The Rock\"...|\n",
      "|    max|              2015|                   writer|9/9/14|   media|                none|\n",
      "+-------+------------------+-------------------------+------+--------+--------------------+\n",
      "\n"
     ]
    }
   ],
   "source": [
    "# how to use describe to summarize the dataframe\n",
    "df.describe().show()"
   ]
  },
  {
   "cell_type": "code",
   "execution_count": 22,
   "id": "e8c7b3b5",
   "metadata": {},
   "outputs": [],
   "source": [
    "# Adding a new column with 2 years added in my dataframe\n",
    "df = df.withColumn('YEAR + 2', df['YEAR'] + 2)"
   ]
  },
  {
   "cell_type": "code",
   "execution_count": 23,
   "id": "6bcbde75",
   "metadata": {},
   "outputs": [
    {
     "data": {
      "text/plain": [
       "[('YEAR', 'int'),\n",
       " ('GoogleKnowlege_Occupation', 'string'),\n",
       " ('Show', 'string'),\n",
       " ('Group', 'string'),\n",
       " ('Raw_Guest_List', 'string'),\n",
       " ('YEAR + 2', 'int')]"
      ]
     },
     "execution_count": 23,
     "metadata": {},
     "output_type": "execute_result"
    }
   ],
   "source": [
    "df.dtypes"
   ]
  },
  {
   "cell_type": "code",
   "execution_count": 24,
   "id": "29077db2",
   "metadata": {},
   "outputs": [
    {
     "name": "stdout",
     "output_type": "stream",
     "text": [
      "+----+-------------------------+-------+------+----------------+--------+\n",
      "|YEAR|GoogleKnowlege_Occupation|   Show| Group|  Raw_Guest_List|YEAR + 2|\n",
      "+----+-------------------------+-------+------+----------------+--------+\n",
      "|1999|                    actor|1/11/99|Acting|  Michael J. Fox|    2001|\n",
      "|1999|                 Comedian|1/12/99|Comedy| Sandra Bernhard|    2001|\n",
      "|1999|       television actress|1/13/99|Acting|   Tracey Ullman|    2001|\n",
      "|1999|             film actress|1/14/99|Acting|Gillian Anderson|    2001|\n",
      "|1999|                    actor|1/18/99|Acting|David Alan Grier|    2001|\n",
      "+----+-------------------------+-------+------+----------------+--------+\n",
      "only showing top 5 rows\n",
      "\n"
     ]
    }
   ],
   "source": [
    "df.show(5)"
   ]
  },
  {
   "cell_type": "code",
   "execution_count": 25,
   "id": "f0ee159a",
   "metadata": {},
   "outputs": [],
   "source": [
    "# Dropping the year + 2 column\n",
    "df = df.drop('YEAR + 2')"
   ]
  },
  {
   "cell_type": "code",
   "execution_count": 26,
   "id": "f3c01030",
   "metadata": {},
   "outputs": [
    {
     "name": "stdout",
     "output_type": "stream",
     "text": [
      "+----+-------------------------+-------+------+----------------+\n",
      "|YEAR|GoogleKnowlege_Occupation|   Show| Group|  Raw_Guest_List|\n",
      "+----+-------------------------+-------+------+----------------+\n",
      "|1999|                    actor|1/11/99|Acting|  Michael J. Fox|\n",
      "|1999|                 Comedian|1/12/99|Comedy| Sandra Bernhard|\n",
      "|1999|       television actress|1/13/99|Acting|   Tracey Ullman|\n",
      "|1999|             film actress|1/14/99|Acting|Gillian Anderson|\n",
      "|1999|                    actor|1/18/99|Acting|David Alan Grier|\n",
      "+----+-------------------------+-------+------+----------------+\n",
      "only showing top 5 rows\n",
      "\n"
     ]
    }
   ],
   "source": [
    "df.show(5)"
   ]
  },
  {
   "cell_type": "code",
   "execution_count": 27,
   "id": "bbe8305e",
   "metadata": {},
   "outputs": [
    {
     "name": "stdout",
     "output_type": "stream",
     "text": [
      "+----+-------------------------+-------+------+----------------+\n",
      "|YEAR|GoogleKnowlege_Occupation|   Show|  Work|  Raw_Guest_List|\n",
      "+----+-------------------------+-------+------+----------------+\n",
      "|1999|                    actor|1/11/99|Acting|  Michael J. Fox|\n",
      "|1999|                 Comedian|1/12/99|Comedy| Sandra Bernhard|\n",
      "|1999|       television actress|1/13/99|Acting|   Tracey Ullman|\n",
      "|1999|             film actress|1/14/99|Acting|Gillian Anderson|\n",
      "|1999|                    actor|1/18/99|Acting|David Alan Grier|\n",
      "+----+-------------------------+-------+------+----------------+\n",
      "only showing top 5 rows\n",
      "\n"
     ]
    }
   ],
   "source": [
    "# Renaming the Group column to Work\n",
    "df.withColumnRenamed('Group', 'Work').show(5)"
   ]
  },
  {
   "cell_type": "code",
   "execution_count": 28,
   "id": "3f1f81e7",
   "metadata": {},
   "outputs": [],
   "source": [
    "# checking for null values \n",
    "null_columns = [column for column in df.columns if df.filter(col(column).isNull()).count() > 0]"
   ]
  },
  {
   "cell_type": "code",
   "execution_count": 29,
   "id": "a2228d71",
   "metadata": {},
   "outputs": [
    {
     "data": {
      "text/plain": [
       "[]"
      ]
     },
     "execution_count": 29,
     "metadata": {},
     "output_type": "execute_result"
    }
   ],
   "source": [
    "null_columns"
   ]
  },
  {
   "cell_type": "code",
   "execution_count": 30,
   "id": "e82d94a4",
   "metadata": {},
   "outputs": [],
   "source": [
    "null_column = []\n",
    "for column in df.columns:\n",
    "    null_count = df.filter(col(column).isNull()).count()\n",
    "    if null_count > 0:\n",
    "        null_columns.append(column)"
   ]
  },
  {
   "cell_type": "code",
   "execution_count": 31,
   "id": "12996d38",
   "metadata": {},
   "outputs": [
    {
     "data": {
      "text/plain": [
       "[]"
      ]
     },
     "execution_count": 31,
     "metadata": {},
     "output_type": "execute_result"
    }
   ],
   "source": [
    "null_column"
   ]
  },
  {
   "cell_type": "markdown",
   "id": "9844873f",
   "metadata": {},
   "source": [
    "There are no null values in the data"
   ]
  }
 ],
 "metadata": {
  "kernelspec": {
   "display_name": "Python 3 (ipykernel)",
   "language": "python",
   "name": "python3"
  },
  "language_info": {
   "codemirror_mode": {
    "name": "ipython",
    "version": 3
   },
   "file_extension": ".py",
   "mimetype": "text/x-python",
   "name": "python",
   "nbconvert_exporter": "python",
   "pygments_lexer": "ipython3",
   "version": "3.9.13"
  }
 },
 "nbformat": 4,
 "nbformat_minor": 5
}
